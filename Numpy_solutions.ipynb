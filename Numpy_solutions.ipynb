{
  "nbformat": 4,
  "nbformat_minor": 0,
  "metadata": {
    "colab": {
      "provenance": []
    },
    "kernelspec": {
      "name": "python3",
      "display_name": "Python 3"
    },
    "language_info": {
      "name": "python"
    }
  },
  "cells": [
    {
      "cell_type": "code",
      "execution_count": null,
      "metadata": {
        "colab": {
          "base_uri": "https://localhost:8080/"
        },
        "id": "yK1N_SaaTLnF",
        "outputId": "3f86bacf-cedb-4e90-a5b0-a37c984aa634"
      },
      "outputs": [
        {
          "output_type": "stream",
          "name": "stdout",
          "text": [
            "hi\n"
          ]
        }
      ],
      "source": [
        "print ('hi')"
      ]
    },
    {
      "cell_type": "code",
      "source": [
        "## a. Импортировать библиотеку NumPy\n",
        "import numpy as np\n"
      ],
      "metadata": {
        "id": "YC-UI3BATpQq"
      },
      "execution_count": null,
      "outputs": []
    },
    {
      "cell_type": "code",
      "source": [
        "## b.Создайте массив из 10 нулей\n",
        "array = np.zeros(10)\n",
        "print ('10 nuley:')\n",
        "print (array)"
      ],
      "metadata": {
        "colab": {
          "base_uri": "https://localhost:8080/"
        },
        "id": "OnojvGC0ULwQ",
        "outputId": "37a64cea-e193-44ef-8c42-662929ffaf0c"
      },
      "execution_count": null,
      "outputs": [
        {
          "output_type": "stream",
          "name": "stdout",
          "text": [
            "10 nuley:\n",
            "[0. 0. 0. 0. 0. 0. 0. 0. 0. 0.]\n"
          ]
        }
      ]
    },
    {
      "cell_type": "code",
      "source": [
        "## c.Создайте массив из 10 единиц\n",
        "array = np.ones(10)\n",
        "print ('10 edenic:')\n",
        "print (array)\n"
      ],
      "metadata": {
        "colab": {
          "base_uri": "https://localhost:8080/"
        },
        "id": "Gx9kOn3IXVPE",
        "outputId": "0cc76ab5-1521-4f73-d9ff-0f870850a8ff"
      },
      "execution_count": null,
      "outputs": [
        {
          "output_type": "stream",
          "name": "stdout",
          "text": [
            "10 edenic:\n",
            "[1. 1. 1. 1. 1. 1. 1. 1. 1. 1.]\n"
          ]
        }
      ]
    },
    {
      "cell_type": "code",
      "source": [
        "## d. Создайте массив из 10 пятерок\n",
        "array = np.ones(10)*5\n",
        "print ('10 pyterok:')\n",
        "print (array)"
      ],
      "metadata": {
        "colab": {
          "base_uri": "https://localhost:8080/"
        },
        "id": "vjXbWvJYXzbs",
        "outputId": "92a00253-2ff4-46e5-83d0-98e8e62160d6"
      },
      "execution_count": null,
      "outputs": [
        {
          "output_type": "stream",
          "name": "stdout",
          "text": [
            "10 pyterok:\n",
            "[5. 5. 5. 5. 5. 5. 5. 5. 5. 5.]\n"
          ]
        }
      ]
    },
    {
      "cell_type": "code",
      "source": [
        "## e. Создайте массив целых чисел от 10 до 50\n",
        "array = np.arange(10,51)\n",
        "print ('ot 10 do 50')\n",
        "print (array)"
      ],
      "metadata": {
        "colab": {
          "base_uri": "https://localhost:8080/"
        },
        "id": "0WB6AC-KYPQA",
        "outputId": "3e9ac209-01fa-4e77-fcc5-badf29e95d9c"
      },
      "execution_count": null,
      "outputs": [
        {
          "output_type": "stream",
          "name": "stdout",
          "text": [
            "ot 10 do 50\n",
            "[10 11 12 13 14 15 16 17 18 19 20 21 22 23 24 25 26 27 28 29 30 31 32 33\n",
            " 34 35 36 37 38 39 40 41 42 43 44 45 46 47 48 49 50]\n"
          ]
        }
      ]
    },
    {
      "cell_type": "code",
      "source": [
        "## f. Создайте массив четных чисел от 10 до 50\n",
        "array = np.arange(10,51,2)\n",
        "print ('chetnij ot 10 do 50')\n",
        "print (array)"
      ],
      "metadata": {
        "colab": {
          "base_uri": "https://localhost:8080/"
        },
        "id": "d-_qEzhLYzhm",
        "outputId": "20623bc7-9aea-49a4-c52e-77af395141f1"
      },
      "execution_count": null,
      "outputs": [
        {
          "output_type": "stream",
          "name": "stdout",
          "text": [
            "chetnij ot 10 do 50\n",
            "[10 12 14 16 18 20 22 24 26 28 30 32 34 36 38 40 42 44 46 48 50]\n"
          ]
        }
      ]
    },
    {
      "cell_type": "code",
      "source": [
        "## g. Создайте матрицу 3x3 с числами от 0 до 8\n",
        "matric = np.arange(0,9). reshape(3,3)\n",
        "print (matric)"
      ],
      "metadata": {
        "colab": {
          "base_uri": "https://localhost:8080/"
        },
        "id": "ZwfaeAL3ZFfz",
        "outputId": "29ef852a-8a80-400a-b626-b3aaa6f01ab6"
      },
      "execution_count": null,
      "outputs": [
        {
          "output_type": "stream",
          "name": "stdout",
          "text": [
            "[[0 1 2]\n",
            " [3 4 5]\n",
            " [6 7 8]]\n"
          ]
        }
      ]
    },
    {
      "cell_type": "code",
      "source": [
        "## h. Создайте единичную матрицу 3х3\n",
        "matric = np.eye(3)\n",
        "print (matric)"
      ],
      "metadata": {
        "colab": {
          "base_uri": "https://localhost:8080/"
        },
        "id": "_45hkhYaZOFg",
        "outputId": "dcc9acea-e35d-47a7-d872-26387d1fd08d"
      },
      "execution_count": null,
      "outputs": [
        {
          "output_type": "stream",
          "name": "stdout",
          "text": [
            "[[1. 0. 0.]\n",
            " [0. 1. 0.]\n",
            " [0. 0. 1.]]\n"
          ]
        }
      ]
    },
    {
      "cell_type": "code",
      "source": [
        "## i. Используй NumPy для генерации случайных чисел от 0 до 1\n",
        "rand = np.random.rand(25)\n",
        "print (rand)"
      ],
      "metadata": {
        "colab": {
          "base_uri": "https://localhost:8080/"
        },
        "id": "MrXjRLbrZTuX",
        "outputId": "31347a37-8ba7-494a-a873-bf0c41f742f7"
      },
      "execution_count": null,
      "outputs": [
        {
          "output_type": "stream",
          "name": "stdout",
          "text": [
            "[0.38854714 0.52732949 0.15088821 0.47395354 0.92654934 0.68716586\n",
            " 0.37968587 0.76638295 0.75671583 0.07661775 0.11570083 0.69158512\n",
            " 0.0494887  0.32086396 0.33763349 0.45311015 0.51078096 0.16336328\n",
            " 0.67008344 0.58491045 0.12959671 0.7517548  0.00423408 0.29060998\n",
            " 0.5349492 ]\n"
          ]
        }
      ]
    },
    {
      "cell_type": "code",
      "source": [
        "## j. Используй NumPy сгенерировать массив из 25 случайных чисел,взято из стандартного нормального распределения\n",
        "matric = np.random.normal(0,1,25)\n",
        "print (matric)"
      ],
      "metadata": {
        "colab": {
          "base_uri": "https://localhost:8080/"
        },
        "id": "yJqhI6fgZjYK",
        "outputId": "7a01f4f5-caaf-4d84-8108-1576308a60b8"
      },
      "execution_count": null,
      "outputs": [
        {
          "output_type": "stream",
          "name": "stdout",
          "text": [
            "[ 0.09113205 -0.70190016  0.61049855  0.98034282  0.01584976 -0.75406255\n",
            " -2.3258774  -0.04823825  0.97998049 -0.20057008 -1.23100001 -1.47997847\n",
            "  0.6520686   1.47912079  0.93144686 -0.43167634  0.35843294  0.61425294\n",
            "  0.26680109 -0.99812162 -0.40191622 -0.94651799 -0.45360552 -0.39144237\n",
            " -1.10470258]\n"
          ]
        }
      ]
    },
    {
      "cell_type": "code",
      "source": [
        "## k.Создайте следующую матрицу, используя библиотеки функций Числов\n",
        "matric = np.arange(0,01.01,0.01)\n",
        "print (matric)\n"
      ],
      "metadata": {
        "colab": {
          "base_uri": "https://localhost:8080/"
        },
        "id": "O4EKT0mvaBr9",
        "outputId": "7be3c915-7c2d-4d6e-f0a4-b29f9e47e780"
      },
      "execution_count": null,
      "outputs": [
        {
          "output_type": "stream",
          "name": "stdout",
          "text": [
            "[0.   0.01 0.02 0.03 0.04 0.05 0.06 0.07 0.08 0.09 0.1  0.11 0.12 0.13\n",
            " 0.14 0.15 0.16 0.17 0.18 0.19 0.2  0.21 0.22 0.23 0.24 0.25 0.26 0.27\n",
            " 0.28 0.29 0.3  0.31 0.32 0.33 0.34 0.35 0.36 0.37 0.38 0.39 0.4  0.41\n",
            " 0.42 0.43 0.44 0.45 0.46 0.47 0.48 0.49 0.5  0.51 0.52 0.53 0.54 0.55\n",
            " 0.56 0.57 0.58 0.59 0.6  0.61 0.62 0.63 0.64 0.65 0.66 0.67 0.68 0.69\n",
            " 0.7  0.71 0.72 0.73 0.74 0.75 0.76 0.77 0.78 0.79 0.8  0.81 0.82 0.83\n",
            " 0.84 0.85 0.86 0.87 0.88 0.89 0.9  0.91 0.92 0.93 0.94 0.95 0.96 0.97\n",
            " 0.98 0.99 1.  ]\n"
          ]
        }
      ]
    },
    {
      "cell_type": "code",
      "source": [
        "## l. это наша начальная матрица, вернуть код из стартовой\n",
        "mat = np.arange(1,26).reshape(5,5)\n",
        "print (mat)"
      ],
      "metadata": {
        "colab": {
          "base_uri": "https://localhost:8080/"
        },
        "id": "1J3AO_OugszF",
        "outputId": "644bbe60-045a-44ad-c5fd-7c6b15fdf215"
      },
      "execution_count": null,
      "outputs": [
        {
          "output_type": "stream",
          "name": "stdout",
          "text": [
            "[[ 1  2  3  4  5]\n",
            " [ 6  7  8  9 10]\n",
            " [11 12 13 14 15]\n",
            " [16 17 18 19 20]\n",
            " [21 22 23 24 25]]\n"
          ]
        }
      ]
    },
    {
      "cell_type": "code",
      "source": [
        "print ('l=',mat[2:,1:]) "
      ],
      "metadata": {
        "colab": {
          "base_uri": "https://localhost:8080/"
        },
        "id": "r5Qbin8uhH6z",
        "outputId": "70391bb5-598a-4b6f-ed8b-09bfff2acaac"
      },
      "execution_count": null,
      "outputs": [
        {
          "output_type": "stream",
          "name": "stdout",
          "text": [
            "l= [[12 13 14 15]\n",
            " [17 18 19 20]\n",
            " [22 23 24 25]]\n"
          ]
        }
      ]
    },
    {
      "cell_type": "code",
      "source": [
        "## m. Написать код обращения к элементу, который вернет значение 20 из стартовой матрицы задачи l\n",
        "m = mat[mat == 20]\n",
        "print (m)"
      ],
      "metadata": {
        "colab": {
          "base_uri": "https://localhost:8080/"
        },
        "id": "Y0YSSV0IiUjy",
        "outputId": "86524194-052f-451a-9277-0e4129461938"
      },
      "execution_count": null,
      "outputs": [
        {
          "output_type": "stream",
          "name": "stdout",
          "text": [
            "[20]\n"
          ]
        }
      ]
    },
    {
      "cell_type": "code",
      "source": [
        " ## n. Написать код к стартовой матрицы задачи l, который воспроизводит вывод показанный ниже\n",
        "print ('array =' , mat[0:3,1]. reshape(3,1))\n"
      ],
      "metadata": {
        "id": "6r78OHFYldhB",
        "colab": {
          "base_uri": "https://localhost:8080/"
        },
        "outputId": "345d75dd-4370-4bf8-c2b2-409eeef68bbd"
      },
      "execution_count": null,
      "outputs": [
        {
          "output_type": "stream",
          "name": "stdout",
          "text": [
            "array = [[ 2]\n",
            " [ 7]\n",
            " [12]]\n"
          ]
        }
      ]
    },
    {
      "cell_type": "code",
      "source": [
        "## o. Написать код к стартовой матрице задачи l , который воспроизводит вывод, показанный ниже\n",
        "print ('array =' , mat[4:])"
      ],
      "metadata": {
        "colab": {
          "base_uri": "https://localhost:8080/"
        },
        "id": "lGZlUn30GsLQ",
        "outputId": "e34f4f9c-d131-490d-e3fa-1ecd47329dc4"
      },
      "execution_count": null,
      "outputs": [
        {
          "output_type": "stream",
          "name": "stdout",
          "text": [
            "array = [[21 22 23 24 25]]\n"
          ]
        }
      ]
    },
    {
      "cell_type": "code",
      "source": [
        "## p. Написать код к стартовой матрице задачи l , который воспроизводит вывод, показанный ниже\n",
        "print ('array =' , mat[3:])"
      ],
      "metadata": {
        "colab": {
          "base_uri": "https://localhost:8080/"
        },
        "id": "2aeRN2PnHpIz",
        "outputId": "a0b65cc0-1197-4061-aaeb-4b197438309e"
      },
      "execution_count": null,
      "outputs": [
        {
          "output_type": "stream",
          "name": "stdout",
          "text": [
            "array = [[16 17 18 19 20]\n",
            " [21 22 23 24 25]]\n"
          ]
        }
      ]
    },
    {
      "cell_type": "code",
      "source": [
        "## q. Получить сумму всех значений в стартовой матрице mat\n",
        "print (mat.sum())"
      ],
      "metadata": {
        "colab": {
          "base_uri": "https://localhost:8080/"
        },
        "id": "X1HtKPakIAU6",
        "outputId": "e132e979-8d3c-4518-d476-94767727cdf5"
      },
      "execution_count": null,
      "outputs": [
        {
          "output_type": "stream",
          "name": "stdout",
          "text": [
            "325\n"
          ]
        }
      ]
    },
    {
      "cell_type": "code",
      "source": [
        "## r. Получить стандартное отклонение в стартовой матрице mat\n",
        "print (mat.std())"
      ],
      "metadata": {
        "colab": {
          "base_uri": "https://localhost:8080/"
        },
        "id": "2C_bK2wyIt67",
        "outputId": "0d2c83d4-c523-4898-ab3a-1d60b3fe8e36"
      },
      "execution_count": null,
      "outputs": [
        {
          "output_type": "stream",
          "name": "stdout",
          "text": [
            "7.211102550927978\n"
          ]
        }
      ]
    },
    {
      "cell_type": "code",
      "source": [
        "## s. Получить сумму значений в колонках в стартовой матрице mat\n",
        "print (mat.sum(axis=0))"
      ],
      "metadata": {
        "colab": {
          "base_uri": "https://localhost:8080/"
        },
        "id": "JZgTrf84IyD5",
        "outputId": "6cbe8cd3-d9d4-41b4-eceb-3d297ddbbdce"
      },
      "execution_count": null,
      "outputs": [
        {
          "output_type": "stream",
          "name": "stdout",
          "text": [
            "[55 60 65 70 75]\n"
          ]
        }
      ]
    }
  ]
}